{
  "nbformat": 4,
  "nbformat_minor": 0,
  "metadata": {
    "colab": {
      "name": "Next Word Prediction.ipynb",
      "provenance": [],
      "collapsed_sections": []
    },
    "kernelspec": {
      "name": "python3",
      "display_name": "Python 3"
    },
    "language_info": {
      "name": "python"
    }
  },
  "cells": [
    {
      "cell_type": "markdown",
      "metadata": {
        "id": "X6SbjOI8lsjo"
      },
      "source": [
        "\n",
        "\n",
        "> ### Import libraries\n",
        "\n"
      ]
    },
    {
      "cell_type": "code",
      "metadata": {
        "id": "gAb2StIgNAft"
      },
      "source": [
        "import tensorflow as tf\n",
        "from tensorflow.keras.preprocessing.text import Tokenizer\n",
        "from tensorflow.keras.layers import Embedding, LSTM, Dense\n",
        "from tensorflow.keras.models import Sequential\n",
        "from tensorflow.keras.utils import to_categorical\n",
        "from tensorflow.keras.optimizers import Adam\n",
        "import pickle\n",
        "import numpy as np\n",
        "import os"
      ],
      "execution_count": null,
      "outputs": []
    },
    {
      "cell_type": "markdown",
      "metadata": {
        "id": "AdaWVGUOmTbX"
      },
      "source": [
        "### Opening and preprocessing the data"
      ]
    },
    {
      "cell_type": "code",
      "metadata": {
        "colab": {
          "base_uri": "https://localhost:8080/"
        },
        "id": "mMv7QJZoNXrS",
        "outputId": "716acab4-2565-4d22-b275-33a2d5e4fb59"
      },
      "source": [
        "path = '1661-0.txt'\n",
        "text = open(path).read().lower()\n",
        "print('corpus length:', len(text))"
      ],
      "execution_count": null,
      "outputs": [
        {
          "output_type": "stream",
          "name": "stdout",
          "text": [
            "corpus length: 581888\n"
          ]
        }
      ]
    },
    {
      "cell_type": "code",
      "metadata": {
        "id": "e6Nky_DNOrqC",
        "colab": {
          "base_uri": "https://localhost:8080/",
          "height": 86
        },
        "outputId": "aa81dc23-ba49-4a7d-e8a3-1bfff60be1f6"
      },
      "source": [
        "file = open(\"1661-0.txt\", \"r\", encoding = \"utf8\")\n",
        "\n",
        "# store file in list\n",
        "lines = []\n",
        "for i in file:\n",
        "    lines.append(i)\n",
        "\n",
        "# Convert list to string\n",
        "data = \"\"\n",
        "for i in lines:\n",
        "  data = ' '. join(lines) \n",
        "\n",
        "#replace unnecessary stuff with space\n",
        "data = data.replace('\\n', '').replace('\\r', '').replace('\\ufeff', '').replace('“','').replace('”','')  #new line, carriage return, unicode character --> replace by space\n",
        "\n",
        "#remove unnecessary spaces \n",
        "data = data.split()\n",
        "data = ' '.join(data)\n",
        "data[:500]"
      ],
      "execution_count": null,
      "outputs": [
        {
          "output_type": "execute_result",
          "data": {
            "application/vnd.google.colaboratory.intrinsic+json": {
              "type": "string"
            },
            "text/plain": [
              "\"Project Gutenberg's The Adventures of Sherlock Holmes, by Arthur Conan Doyle This eBook is for the use of anyone anywhere at no cost and with almost no restrictions whatsoever. You may copy it, give it away or re-use it under the terms of the Project Gutenberg License included with this eBook or online at www.gutenberg.net Title: The Adventures of Sherlock Holmes Author: Arthur Conan Doyle Release Date: November 29, 2002 [EBook #1661] Last Updated: May 20, 2019 Language: English Character set en\""
            ]
          },
          "metadata": {},
          "execution_count": 3
        }
      ]
    },
    {
      "cell_type": "code",
      "metadata": {
        "id": "VdP4AMe-kset",
        "colab": {
          "base_uri": "https://localhost:8080/"
        },
        "outputId": "9aa02182-979e-4584-8d47-c1c9c78819d0"
      },
      "source": [
        "len(data)"
      ],
      "execution_count": null,
      "outputs": [
        {
          "output_type": "execute_result",
          "data": {
            "text/plain": [
              "573660"
            ]
          },
          "metadata": {},
          "execution_count": 5
        }
      ]
    },
    {
      "cell_type": "markdown",
      "metadata": {
        "id": "28f0tzyCmgJW"
      },
      "source": [
        " ### Apply tokenization"
      ]
    },
    {
      "cell_type": "code",
      "metadata": {
        "colab": {
          "base_uri": "https://localhost:8080/"
        },
        "id": "ibpQe8JtkwHJ",
        "outputId": "778228d4-0cab-41ff-b0c7-f43c00947ee6"
      },
      "source": [
        "tokenizer = Tokenizer()\n",
        "tokenizer.fit_on_texts([data])\n",
        "\n",
        "# saving the tokenizer for predict function\n",
        "pickle.dump(tokenizer, open('token.pkl', 'wb'))\n",
        "\n",
        "sequence_data = tokenizer.texts_to_sequences([data])[0]\n",
        "sequence_data[:15]"
      ],
      "execution_count": null,
      "outputs": [
        {
          "output_type": "execute_result",
          "data": {
            "text/plain": [
              "[142, 4680, 1, 986, 5, 125, 33, 46, 556, 2164, 2165, 27, 987, 14, 22]"
            ]
          },
          "metadata": {},
          "execution_count": 6
        }
      ]
    },
    {
      "cell_type": "code",
      "metadata": {
        "id": "psFEYkamk9VU",
        "colab": {
          "base_uri": "https://localhost:8080/"
        },
        "outputId": "4b238a15-14fc-4766-ac35-cadacf159312"
      },
      "source": [
        "len(sequence_data)"
      ],
      "execution_count": null,
      "outputs": [
        {
          "output_type": "execute_result",
          "data": {
            "text/plain": [
              "108958"
            ]
          },
          "metadata": {},
          "execution_count": 7
        }
      ]
    },
    {
      "cell_type": "code",
      "metadata": {
        "id": "t4PzIKVflDma",
        "colab": {
          "base_uri": "https://localhost:8080/"
        },
        "outputId": "e1973a56-e5d7-4705-f14d-3ab13a4ecf47"
      },
      "source": [
        "vocab_size = len(tokenizer.word_index) + 1\n",
        "print(vocab_size)"
      ],
      "execution_count": null,
      "outputs": [
        {
          "output_type": "stream",
          "name": "stdout",
          "text": [
            "8624\n"
          ]
        }
      ]
    },
    {
      "cell_type": "code",
      "metadata": {
        "colab": {
          "base_uri": "https://localhost:8080/"
        },
        "id": "CZI3T7uxCI69",
        "outputId": "cba6b585-dc75-4117-9888-3ef67d1772d6"
      },
      "source": [
        "sequences = []\n",
        "\n",
        "for i in range(3, len(sequence_data)):\n",
        "    words = sequence_data[i-3:i+1]\n",
        "    sequences.append(words)\n",
        "    \n",
        "print(\"The Length of sequences are: \", len(sequences))\n",
        "sequences = np.array(sequences)\n",
        "sequences[:10]"
      ],
      "execution_count": null,
      "outputs": [
        {
          "output_type": "stream",
          "name": "stdout",
          "text": [
            "The Length of sequences are:  108955\n"
          ]
        },
        {
          "output_type": "execute_result",
          "data": {
            "text/plain": [
              "array([[ 142, 4680,    1,  986],\n",
              "       [4680,    1,  986,    5],\n",
              "       [   1,  986,    5,  125],\n",
              "       [ 986,    5,  125,   33],\n",
              "       [   5,  125,   33,   46],\n",
              "       [ 125,   33,   46,  556],\n",
              "       [  33,   46,  556, 2164],\n",
              "       [  46,  556, 2164, 2165],\n",
              "       [ 556, 2164, 2165,   27],\n",
              "       [2164, 2165,   27,  987]])"
            ]
          },
          "metadata": {},
          "execution_count": 9
        }
      ]
    },
    {
      "cell_type": "code",
      "metadata": {
        "id": "IeRJ0SX1CL7b"
      },
      "source": [
        "X = []\n",
        "y = []\n",
        "\n",
        "for i in sequences:\n",
        "    X.append(i[0:3])\n",
        "    y.append(i[3])\n",
        "    \n",
        "X = np.array(X)\n",
        "y = np.array(y)"
      ],
      "execution_count": null,
      "outputs": []
    },
    {
      "cell_type": "code",
      "metadata": {
        "colab": {
          "base_uri": "https://localhost:8080/"
        },
        "id": "ICi-jJ3QCQCH",
        "outputId": "19463cf1-cdf8-497d-b501-e711a15caeb0"
      },
      "source": [
        "print(\"Data: \", X[:10])\n",
        "print(\"Response: \", y[:10])"
      ],
      "execution_count": null,
      "outputs": [
        {
          "output_type": "stream",
          "name": "stdout",
          "text": [
            "Data:  [[ 142 4680    1]\n",
            " [4680    1  986]\n",
            " [   1  986    5]\n",
            " [ 986    5  125]\n",
            " [   5  125   33]\n",
            " [ 125   33   46]\n",
            " [  33   46  556]\n",
            " [  46  556 2164]\n",
            " [ 556 2164 2165]\n",
            " [2164 2165   27]]\n",
            "Response:  [ 986    5  125   33   46  556 2164 2165   27  987]\n"
          ]
        }
      ]
    },
    {
      "cell_type": "code",
      "metadata": {
        "colab": {
          "base_uri": "https://localhost:8080/"
        },
        "id": "PvxGyS1pCSXk",
        "outputId": "66b63ebd-0859-4d64-80b9-6fb5530fc016"
      },
      "source": [
        "y = to_categorical(y, num_classes=vocab_size)\n",
        "y[:5]"
      ],
      "execution_count": null,
      "outputs": [
        {
          "output_type": "execute_result",
          "data": {
            "text/plain": [
              "array([[0., 0., 0., ..., 0., 0., 0.],\n",
              "       [0., 0., 0., ..., 0., 0., 0.],\n",
              "       [0., 0., 0., ..., 0., 0., 0.],\n",
              "       [0., 0., 0., ..., 0., 0., 0.],\n",
              "       [0., 0., 0., ..., 0., 0., 0.]], dtype=float32)"
            ]
          },
          "metadata": {},
          "execution_count": 12
        }
      ]
    },
    {
      "cell_type": "markdown",
      "metadata": {
        "id": "Y3XuPwlfmtQn"
      },
      "source": [
        "### Applying tokenization"
      ]
    },
    {
      "cell_type": "code",
      "metadata": {
        "colab": {
          "base_uri": "https://localhost:8080/"
        },
        "id": "s7Yl7j2QCVnr",
        "outputId": "825bc736-8dd2-4cda-c10d-19ff533d012e"
      },
      "source": [
        "model = Sequential()\n",
        "model.add(Embedding(vocab_size, 10, input_length=3))\n",
        "model.add(LSTM(1000, return_sequences=True))\n",
        "model.add(LSTM(1000))\n",
        "model.add(Dense(1000, activation=\"relu\"))\n",
        "model.add(Dense(vocab_size, activation=\"softmax\"))\n",
        "model.summary()"
      ],
      "execution_count": null,
      "outputs": [
        {
          "output_type": "stream",
          "name": "stdout",
          "text": [
            "Model: \"sequential_1\"\n",
            "_________________________________________________________________\n",
            "Layer (type)                 Output Shape              Param #   \n",
            "=================================================================\n",
            "embedding_1 (Embedding)      (None, 3, 10)             86240     \n",
            "_________________________________________________________________\n",
            "lstm_2 (LSTM)                (None, 3, 1000)           4044000   \n",
            "_________________________________________________________________\n",
            "lstm_3 (LSTM)                (None, 1000)              8004000   \n",
            "_________________________________________________________________\n",
            "dense_2 (Dense)              (None, 1000)              1001000   \n",
            "_________________________________________________________________\n",
            "dense_3 (Dense)              (None, 8624)              8632624   \n",
            "=================================================================\n",
            "Total params: 21,767,864\n",
            "Trainable params: 21,767,864\n",
            "Non-trainable params: 0\n",
            "_________________________________________________________________\n"
          ]
        }
      ]
    },
    {
      "cell_type": "markdown",
      "metadata": {
        "id": "oy3JBVJ1m2cG"
      },
      "source": [
        "### Plotting the model"
      ]
    },
    {
      "cell_type": "code",
      "metadata": {
        "colab": {
          "base_uri": "https://localhost:8080/",
          "height": 564
        },
        "id": "4vYUrv2DCY6q",
        "outputId": "808cc2d7-198a-45ae-a0d2-c126700a326c"
      },
      "source": [
        "from tensorflow import keras\n",
        "from keras.utils.vis_utils import plot_model\n",
        "\n",
        "keras.utils.plot_model(model, to_file='plot.png', show_layer_names=True)"
      ],
      "execution_count": null,
      "outputs": [
        {
          "output_type": "execute_result",
          "data": {
            "image/png": "[encoded data removed]",
            "text/plain": [
              "<IPython.core.display.Image object>"
            ]
          },
          "metadata": {},
          "execution_count": 15
        }
      ]
    },
    {
      "cell_type": "markdown",
      "metadata": {
        "id": "GOSttJBCnD7F"
      },
      "source": [
        "### Training the model"
      ]
    },
    {
      "cell_type": "code",
      "metadata": {
        "colab": {
          "base_uri": "https://localhost:8080/"
        },
        "id": "MFmyNZyCCgP-",
        "outputId": "a9e39f7e-8fc9-4abc-8246-5608bda7928a"
      },
      "source": [
        "from tensorflow.keras.callbacks import ModelCheckpoint\n",
        "\n",
        "checkpoint = ModelCheckpoint(\"next_words.h5\", monitor='loss', verbose=1, save_best_only=True)\n",
        "model.compile(loss=\"categorical_crossentropy\", optimizer=Adam(learning_rate=0.001))\n",
        "model.fit(X, y, epochs=30, batch_size=64, callbacks=[checkpoint])"
      ],
      "execution_count": null,
      "outputs": [
        {
          "output_type": "stream",
          "name": "stdout",
          "text": [
            "Epoch 1/70\n",
            "1703/1703 [==============================] - 1029s 602ms/step - loss: 6.4092\n",
            "\n",
            "Epoch 00001: loss improved from inf to 6.40917, saving model to next_words.h5\n",
            "Epoch 2/70\n",
            "1703/1703 [==============================] - 1029s 604ms/step - loss: 5.8207\n",
            "\n",
            "Epoch 00002: loss improved from 6.40917 to 5.82071, saving model to next_words.h5\n",
            "Epoch 3/70\n",
            "1703/1703 [==============================] - 1002s 588ms/step - loss: 5.4779\n",
            "\n",
            "Epoch 00003: loss improved from 5.82071 to 5.47788, saving model to next_words.h5\n",
            "Epoch 4/70\n",
            "1703/1703 [==============================] - 981s 576ms/step - loss: 5.1989\n",
            "\n",
            "Epoch 00004: loss improved from 5.47788 to 5.19893, saving model to next_words.h5\n",
            "Epoch 5/70\n",
            "1703/1703 [==============================] - 1011s 593ms/step - loss: 4.9636\n",
            "\n",
            "Epoch 00005: loss improved from 5.19893 to 4.96364, saving model to next_words.h5\n",
            "Epoch 6/70\n",
            "1703/1703 [==============================] - 1013s 595ms/step - loss: 4.7397\n",
            "\n",
            "Epoch 00006: loss improved from 4.96364 to 4.73973, saving model to next_words.h5\n",
            "Epoch 7/70\n",
            "1703/1703 [==============================] - 1010s 593ms/step - loss: 4.5172\n",
            "\n",
            "Epoch 00007: loss improved from 4.73973 to 4.51716, saving model to next_words.h5\n",
            "Epoch 8/70\n",
            "1703/1703 [==============================] - 1016s 596ms/step - loss: 4.2896\n",
            "\n",
            "Epoch 00008: loss improved from 4.51716 to 4.28964, saving model to next_words.h5\n",
            "Epoch 9/70\n",
            "1703/1703 [==============================] - 1010s 593ms/step - loss: 4.0535\n",
            "\n",
            "Epoch 00009: loss improved from 4.28964 to 4.05350, saving model to next_words.h5\n",
            "Epoch 10/70\n",
            "1703/1703 [==============================] - 1004s 589ms/step - loss: 3.8104\n",
            "\n",
            "Epoch 00010: loss improved from 4.05350 to 3.81039, saving model to next_words.h5\n",
            "Epoch 11/70\n",
            "1703/1703 [==============================] - 1001s 588ms/step - loss: 3.5643\n",
            "\n",
            "Epoch 00011: loss improved from 3.81039 to 3.56430, saving model to next_words.h5\n",
            "Epoch 12/70\n",
            "1703/1703 [==============================] - 1006s 591ms/step - loss: 3.3161\n",
            "\n",
            "Epoch 00012: loss improved from 3.56430 to 3.31613, saving model to next_words.h5\n",
            "Epoch 13/70\n",
            "1703/1703 [==============================] - 1015s 596ms/step - loss: 3.0753\n",
            "\n",
            "Epoch 00013: loss improved from 3.31613 to 3.07525, saving model to next_words.h5\n",
            "Epoch 14/70\n",
            "1703/1703 [==============================] - 1034s 607ms/step - loss: 2.8401\n",
            "\n",
            "Epoch 00014: loss improved from 3.07525 to 2.84009, saving model to next_words.h5\n",
            "Epoch 15/70\n",
            "1703/1703 [==============================] - 1047s 615ms/step - loss: 2.6090\n",
            "\n",
            "Epoch 00015: loss improved from 2.84009 to 2.60899, saving model to next_words.h5\n",
            "Epoch 16/70\n",
            "1703/1703 [==============================] - 1034s 607ms/step - loss: 2.3796\n",
            "\n",
            "Epoch 00016: loss improved from 2.60899 to 2.37960, saving model to next_words.h5\n",
            "Epoch 17/70\n",
            "1703/1703 [==============================] - 1032s 606ms/step - loss: 2.1560\n",
            "\n",
            "Epoch 00017: loss improved from 2.37960 to 2.15600, saving model to next_words.h5\n",
            "Epoch 18/70\n",
            "1703/1703 [==============================] - 1021s 600ms/step - loss: 1.9429\n",
            "\n",
            "Epoch 00018: loss improved from 2.15600 to 1.94293, saving model to next_words.h5\n",
            "Epoch 19/70\n",
            "1703/1703 [==============================] - 1001s 588ms/step - loss: 1.7395\n",
            "\n",
            "Epoch 00019: loss improved from 1.94293 to 1.73946, saving model to next_words.h5\n",
            "Epoch 20/70\n",
            "1703/1703 [==============================] - 1025s 602ms/step - loss: 1.5560\n",
            "\n",
            "Epoch 00020: loss improved from 1.73946 to 1.55602, saving model to next_words.h5\n",
            "Epoch 21/70\n",
            "1703/1703 [==============================] - 1031s 605ms/step - loss: 1.3971\n",
            "\n",
            "Epoch 00021: loss improved from 1.55602 to 1.39710, saving model to next_words.h5\n",
            "Epoch 22/70\n",
            "1703/1703 [==============================] - 1020s 599ms/step - loss: 1.2513\n",
            "\n",
            "Epoch 00022: loss improved from 1.39710 to 1.25129, saving model to next_words.h5\n",
            "Epoch 23/70\n",
            "1703/1703 [==============================] - 1015s 596ms/step - loss: 1.1270\n",
            "\n",
            "Epoch 00023: loss improved from 1.25129 to 1.12701, saving model to next_words.h5\n",
            "Epoch 24/70\n",
            "1443/1703 [========================>.....] - ETA: 2:36 - loss: 1.0022"
          ]
        }
      ]
    },
    {
      "cell_type": "markdown",
      "metadata": {
        "id": "Zm2hOnzInIG-"
      },
      "source": [
        "### Prediction"
      ]
    },
    {
      "cell_type": "code",
      "metadata": {
        "id": "vB-z6mP9ClUg"
      },
      "source": [
        "# Load the model and tokenizer\n",
        "model = load_model('next_words.h5')\n",
        "tokenizer = pickle.load(open('token.pkl', 'rb'))\n",
        "\n",
        "def Predict_Next_Words(model, tokenizer, text):\n",
        "\n",
        "  sequence = tokenizer.texts_to_sequences([text])\n",
        "  sequence = np.array(sequence)\n",
        "  preds = np.argmax(model.predict(sequence))\n",
        "  predicted_word = \"\"\n",
        "  \n",
        "  for key, value in tokenizer.word_index.items():\n",
        "      if value == preds:\n",
        "          predicted_word = key\n",
        "          break\n",
        "  \n",
        "  print(predicted_word)\n",
        "  return predicted_word\n",
        "\n",
        "while(True):\n",
        "  text = input(\"Enter your line: \")\n",
        "  \n",
        "  if text == \"0\":\n",
        "      print(\"Execution completed.....\")\n",
        "      break\n",
        "  \n",
        "  else:\n",
        "      try:\n",
        "          text = text.split(\" \")\n",
        "          text = text[-3:]\n",
        "          print(text)\n",
        "        \n",
        "          Predict_Next_Words(model, tokenizer, text)\n",
        "          \n",
        "      except Exception as e:\n",
        "        print(\"Error occurred: \",e)\n",
        "        continue"
      ],
      "execution_count": null,
      "outputs": []
    }
  ]
}